{
 "cells": [
  {
   "cell_type": "code",
   "execution_count": null,
   "metadata": {
    "_cell_guid": "b1076dfc-b9ad-4769-8c92-a6c4dae69d19",
    "_kg_hide-output": true,
    "_uuid": "8f2839f25d086af736a60e9eeb907d3b93b6e0e5"
   },
   "outputs": [],
   "source": [
    "# This Python 3 environment comes with many helpful analytics libraries installed\n",
    "# It is defined by the kaggle/python Docker image: https://github.com/kaggle/docker-python\n",
    "# For example, here's several helpful packages to load\n",
    "\n",
    "import numpy as np # linear algebra\n",
    "import pandas as pd # data processing, CSV file I/O (e.g. pd.read_csv)\n",
    "\n",
    "# Input data files are available in the read-only \"../input/\" directory\n",
    "# For example, running this (by clicking run or pressing Shift+Enter) will list all files under the input directory\n",
    "\n",
    "import os\n",
    "for dirname, _, filenames in os.walk('/kaggle/input'):\n",
    "    for filename in filenames:\n",
    "        print(os.path.join(dirname, filename))\n",
    "\n",
    "# You can write up to 20GB to the current directory (/kaggle/working/) that gets preserved as output when you create a version using \"Save & Run All\" \n",
    "# You can also write temporary files to /kaggle/temp/, but they won't be saved outside of the current session"
   ]
  },
  {
   "cell_type": "markdown",
   "metadata": {},
   "source": [
    "# Image classification with Transfer learning and Fine tuning"
   ]
  },
  {
   "cell_type": "markdown",
   "metadata": {},
   "source": [
    "## Import Libraries"
   ]
  },
  {
   "cell_type": "code",
   "execution_count": 1,
   "metadata": {
    "execution": {
     "iopub.execute_input": "2022-05-29T16:50:55.101246Z",
     "iopub.status.busy": "2022-05-29T16:50:55.100830Z",
     "iopub.status.idle": "2022-05-29T16:51:00.288583Z",
     "shell.execute_reply": "2022-05-29T16:51:00.287850Z",
     "shell.execute_reply.started": "2022-05-29T16:50:55.101154Z"
    }
   },
   "outputs": [],
   "source": [
    "import tensorflow as tf"
   ]
  },
  {
   "cell_type": "markdown",
   "metadata": {},
   "source": [
    "### Set path variables"
   ]
  },
  {
   "cell_type": "code",
   "execution_count": 3,
   "metadata": {
    "execution": {
     "iopub.execute_input": "2022-05-29T16:53:41.254617Z",
     "iopub.status.busy": "2022-05-29T16:53:41.254112Z",
     "iopub.status.idle": "2022-05-29T16:53:41.258423Z",
     "shell.execute_reply": "2022-05-29T16:53:41.257772Z",
     "shell.execute_reply.started": "2022-05-29T16:53:41.254576Z"
    }
   },
   "outputs": [],
   "source": [
    "train_dir = '/kaggle/input/nobahar/Food-Data/training/'\n",
    "test_dir = '/kaggle/input/nobahar/Food-Data/test/'"
   ]
  },
  {
   "cell_type": "markdown",
   "metadata": {},
   "source": [
    "### Let's see food labels"
   ]
  },
  {
   "cell_type": "code",
   "execution_count": 6,
   "metadata": {
    "execution": {
     "iopub.execute_input": "2022-05-29T16:59:35.031811Z",
     "iopub.status.busy": "2022-05-29T16:59:35.031535Z",
     "iopub.status.idle": "2022-05-29T16:59:35.042492Z",
     "shell.execute_reply": "2022-05-29T16:59:35.041776Z",
     "shell.execute_reply.started": "2022-05-29T16:59:35.031781Z"
    }
   },
   "outputs": [],
   "source": [
    "classes = os.listdir(train_dir)"
   ]
  },
  {
   "cell_type": "markdown",
   "metadata": {},
   "source": [
    "### Count number of training samples in each group"
   ]
  },
  {
   "cell_type": "code",
   "execution_count": 7,
   "metadata": {
    "execution": {
     "iopub.execute_input": "2022-05-29T16:59:36.199859Z",
     "iopub.status.busy": "2022-05-29T16:59:36.199457Z",
     "iopub.status.idle": "2022-05-29T16:59:36.213262Z",
     "shell.execute_reply": "2022-05-29T16:59:36.212460Z",
     "shell.execute_reply.started": "2022-05-29T16:59:36.199824Z"
    }
   },
   "outputs": [],
   "source": [
    "for label in classes:\n",
    "    label_path = os.path.join(train_dir , label)\n",
    "    print(f\"{label} : {len(os.listdir(label_path))}\")"
   ]
  },
  {
   "cell_type": "markdown",
   "metadata": {},
   "source": [
    "## Load the data into train and validation sets"
   ]
  },
  {
   "cell_type": "code",
   "execution_count": 8,
   "metadata": {
    "execution": {
     "iopub.execute_input": "2022-05-29T17:01:51.817685Z",
     "iopub.status.busy": "2022-05-29T17:01:51.817422Z",
     "iopub.status.idle": "2022-05-29T17:01:51.821313Z",
     "shell.execute_reply": "2022-05-29T17:01:51.820476Z",
     "shell.execute_reply.started": "2022-05-29T17:01:51.817657Z"
    }
   },
   "outputs": [],
   "source": [
    "IMG_SIZE = (224,224)\n",
    "VALID_SPLIT = 0.2"
   ]
  },
  {
   "cell_type": "code",
   "execution_count": 9,
   "metadata": {
    "execution": {
     "iopub.execute_input": "2022-05-29T17:01:53.479691Z",
     "iopub.status.busy": "2022-05-29T17:01:53.479064Z",
     "iopub.status.idle": "2022-05-29T17:01:57.514144Z",
     "shell.execute_reply": "2022-05-29T17:01:57.513221Z",
     "shell.execute_reply.started": "2022-05-29T17:01:53.479650Z"
    }
   },
   "outputs": [],
   "source": [
    "train_ds = tf.keras.utils.image_dataset_from_directory(\n",
    "  \"../input/nobahar/Food-Data/training\",\n",
    "  validation_split=VALID_SPLIT,  \n",
    "  subset=\"training\",\n",
    "  seed=123,\n",
    "  image_size=IMG_SIZE,\n",
    "  batch_size=64)"
   ]
  },
  {
   "cell_type": "code",
   "execution_count": 10,
   "metadata": {
    "execution": {
     "iopub.execute_input": "2022-05-29T17:01:57.516652Z",
     "iopub.status.busy": "2022-05-29T17:01:57.515862Z",
     "iopub.status.idle": "2022-05-29T17:01:57.848184Z",
     "shell.execute_reply": "2022-05-29T17:01:57.847392Z",
     "shell.execute_reply.started": "2022-05-29T17:01:57.516615Z"
    }
   },
   "outputs": [],
   "source": [
    "valid_ds = tf.keras.utils.image_dataset_from_directory(\n",
    "  \"../input/nobahar/Food-Data/training\",\n",
    "  validation_split=VALID_SPLIT,\n",
    "  subset=\"validation\",\n",
    "  seed=123,\n",
    "  image_size=IMG_SIZE,\n",
    "  batch_size=64)"
   ]
  },
  {
   "cell_type": "markdown",
   "metadata": {
    "execution": {
     "iopub.execute_input": "2022-05-28T18:37:43.926984Z",
     "iopub.status.busy": "2022-05-28T18:37:43.926717Z",
     "iopub.status.idle": "2022-05-28T18:37:43.935461Z",
     "shell.execute_reply": "2022-05-28T18:37:43.934681Z",
     "shell.execute_reply.started": "2022-05-28T18:37:43.926955Z"
    }
   },
   "source": [
    "# Pre-Process"
   ]
  },
  {
   "cell_type": "code",
   "execution_count": 11,
   "metadata": {
    "execution": {
     "iopub.execute_input": "2022-05-29T17:02:04.529368Z",
     "iopub.status.busy": "2022-05-29T17:02:04.529119Z",
     "iopub.status.idle": "2022-05-29T17:02:04.582214Z",
     "shell.execute_reply": "2022-05-29T17:02:04.581495Z",
     "shell.execute_reply.started": "2022-05-29T17:02:04.529340Z"
    }
   },
   "outputs": [],
   "source": [
    "def convert_to_float(image, label):\n",
    "    image = tf.image.convert_image_dtype(image, dtype=tf.float32)\n",
    "    return image, label\n",
    "\n",
    "AUTOTUNE = tf.data.experimental.AUTOTUNE\n",
    "train_ds = (\n",
    "    train_ds\n",
    "    .map(convert_to_float)\n",
    "    .cache()\n",
    "    .prefetch(buffer_size=AUTOTUNE)\n",
    ")\n",
    "valid_ds = (\n",
    "    valid_ds\n",
    "    .map(convert_to_float)\n",
    "    .cache()\n",
    "    .prefetch(buffer_size=AUTOTUNE)\n",
    ")"
   ]
  },
  {
   "cell_type": "markdown",
   "metadata": {},
   "source": [
    "# Load Pre trained model"
   ]
  },
  {
   "cell_type": "code",
   "execution_count": 12,
   "metadata": {
    "execution": {
     "iopub.execute_input": "2022-05-29T17:02:33.811218Z",
     "iopub.status.busy": "2022-05-29T17:02:33.810666Z",
     "iopub.status.idle": "2022-05-29T17:02:35.313045Z",
     "shell.execute_reply": "2022-05-29T17:02:35.312291Z",
     "shell.execute_reply.started": "2022-05-29T17:02:33.811179Z"
    }
   },
   "outputs": [],
   "source": [
    "base_model = tf.keras.applications.xception.Xception(input_shape=(224,224,3),\n",
    "                                               include_top=False,\n",
    "                                               weights='imagenet')\n",
    "# fine tuning\n",
    "base_model.trainable = True"
   ]
  },
  {
   "cell_type": "markdown",
   "metadata": {},
   "source": [
    "# Define learning rate schedular "
   ]
  },
  {
   "cell_type": "code",
   "execution_count": 13,
   "metadata": {
    "execution": {
     "iopub.execute_input": "2022-05-29T17:02:48.628539Z",
     "iopub.status.busy": "2022-05-29T17:02:48.627918Z",
     "iopub.status.idle": "2022-05-29T17:02:48.843073Z",
     "shell.execute_reply": "2022-05-29T17:02:48.842379Z",
     "shell.execute_reply.started": "2022-05-29T17:02:48.628487Z"
    }
   },
   "outputs": [],
   "source": [
    "import matplotlib.pyplot as plt \n",
    "EPOCHS = 13\n",
    "LR_START = 0.00001\n",
    "LR_MAX = 0.0001 * 0.6\n",
    "LR_MIN = 0.00001\n",
    "LR_RAMPUP_EPOCHS = 3\n",
    "LR_SUSTAIN_EPOCHS = 3\n",
    "LR_EXP_DECAY = .5\n",
    "\n",
    "def lrfn(epoch):\n",
    "    if epoch < LR_RAMPUP_EPOCHS:\n",
    "        lr = (LR_MAX - LR_START) / LR_RAMPUP_EPOCHS * epoch + LR_START\n",
    "    elif epoch < LR_RAMPUP_EPOCHS + LR_SUSTAIN_EPOCHS:\n",
    "        lr = LR_MAX\n",
    "    else:\n",
    "        lr = (LR_MAX - LR_MIN) * LR_EXP_DECAY**(epoch - LR_RAMPUP_EPOCHS - LR_SUSTAIN_EPOCHS) + LR_MIN\n",
    "    return lr\n",
    "    \n",
    "lr_callback = tf.keras.callbacks.LearningRateScheduler(lrfn, verbose=True)\n",
    "\n",
    "rng = [i for i in range(EPOCHS)]\n",
    "y = [lrfn(x) for x in rng]\n",
    "plt.plot(rng, y)\n",
    "print(\"Learning rate schedule: {:.3g} to {:.3g} to {:.3g}\".format(y[0], max(y), y[-1]))"
   ]
  },
  {
   "cell_type": "markdown",
   "metadata": {},
   "source": [
    "# Create model"
   ]
  },
  {
   "cell_type": "code",
   "execution_count": 15,
   "metadata": {
    "execution": {
     "iopub.execute_input": "2022-05-29T17:04:56.093742Z",
     "iopub.status.busy": "2022-05-29T17:04:56.093463Z",
     "iopub.status.idle": "2022-05-29T17:04:56.453770Z",
     "shell.execute_reply": "2022-05-29T17:04:56.453051Z",
     "shell.execute_reply.started": "2022-05-29T17:04:56.093694Z"
    }
   },
   "outputs": [],
   "source": [
    "from tensorflow.keras.layers.experimental import preprocessing\n",
    "input_shape=[IMG_SIZE[0],IMG_SIZE[1], 3]\n",
    "model = tf.keras.Sequential([\n",
    "        tf.keras.layers.InputLayer(input_shape=input_shape),\n",
    "        #data augmentation\n",
    "        preprocessing.RandomFlip('horizontal'), # flip left-to-right\n",
    "        preprocessing.RandomContrast(0.5),\n",
    "        base_model,\n",
    "        tf.keras.layers.Flatten(),\n",
    "        tf.keras.layers.Dense(5, activation='softmax')\n",
    "    ])"
   ]
  },
  {
   "cell_type": "markdown",
   "metadata": {},
   "source": [
    "# Fit the model to the data"
   ]
  },
  {
   "cell_type": "code",
   "execution_count": 16,
   "metadata": {
    "execution": {
     "iopub.execute_input": "2022-05-29T17:05:04.981146Z",
     "iopub.status.busy": "2022-05-29T17:05:04.980596Z",
     "iopub.status.idle": "2022-05-29T17:18:50.040242Z",
     "shell.execute_reply": "2022-05-29T17:18:50.039514Z",
     "shell.execute_reply.started": "2022-05-29T17:05:04.981106Z"
    }
   },
   "outputs": [],
   "source": [
    "model.compile(\n",
    "    optimizer='adam',\n",
    "    loss='sparse_categorical_crossentropy',\n",
    "    metrics=['accuracy'],\n",
    ")\n",
    "\n",
    "history = model.fit(\n",
    "    train_ds,\n",
    "    validation_data=valid_ds,\n",
    "    callbacks = [lr_callback],\n",
    "    epochs=13,\n",
    "    batch_size=128\n",
    ")"
   ]
  },
  {
   "cell_type": "markdown",
   "metadata": {},
   "source": [
    "# Plot training and validation loss "
   ]
  },
  {
   "cell_type": "code",
   "execution_count": 18,
   "metadata": {
    "execution": {
     "iopub.execute_input": "2022-05-29T17:20:08.319830Z",
     "iopub.status.busy": "2022-05-29T17:20:08.319481Z",
     "iopub.status.idle": "2022-05-29T17:20:08.605056Z",
     "shell.execute_reply": "2022-05-29T17:20:08.604390Z",
     "shell.execute_reply.started": "2022-05-29T17:20:08.319790Z"
    }
   },
   "outputs": [],
   "source": [
    "history_frame = pd.DataFrame(history.history)\n",
    "history_frame.loc[:,['loss' , 'val_loss']].plot()"
   ]
  },
  {
   "cell_type": "markdown",
   "metadata": {},
   "source": [
    "# Get test image names "
   ]
  },
  {
   "cell_type": "code",
   "execution_count": 20,
   "metadata": {
    "execution": {
     "iopub.execute_input": "2022-05-29T17:20:28.399466Z",
     "iopub.status.busy": "2022-05-29T17:20:28.399212Z",
     "iopub.status.idle": "2022-05-29T17:20:28.408566Z",
     "shell.execute_reply": "2022-05-29T17:20:28.407834Z",
     "shell.execute_reply.started": "2022-05-29T17:20:28.399436Z"
    }
   },
   "outputs": [],
   "source": [
    "test_df = pd.DataFrame()\n",
    "test_image_names = []\n",
    "for pic in os.listdir(test_dir):\n",
    "    test_image_names.append(pic)\n",
    "test_df['file'] = test_image_names"
   ]
  },
  {
   "cell_type": "markdown",
   "metadata": {},
   "source": [
    "# Load test data to predict"
   ]
  },
  {
   "cell_type": "code",
   "execution_count": 21,
   "metadata": {
    "execution": {
     "iopub.execute_input": "2022-05-29T17:20:32.797777Z",
     "iopub.status.busy": "2022-05-29T17:20:32.797494Z",
     "iopub.status.idle": "2022-05-29T17:20:32.802775Z",
     "shell.execute_reply": "2022-05-29T17:20:32.802082Z",
     "shell.execute_reply.started": "2022-05-29T17:20:32.797745Z"
    }
   },
   "outputs": [],
   "source": [
    "from tensorflow.keras.preprocessing.image import ImageDataGenerator"
   ]
  },
  {
   "cell_type": "code",
   "execution_count": 22,
   "metadata": {
    "execution": {
     "iopub.execute_input": "2022-05-29T17:20:33.652435Z",
     "iopub.status.busy": "2022-05-29T17:20:33.651914Z",
     "iopub.status.idle": "2022-05-29T17:20:33.657315Z",
     "shell.execute_reply": "2022-05-29T17:20:33.656275Z",
     "shell.execute_reply.started": "2022-05-29T17:20:33.652398Z"
    }
   },
   "outputs": [],
   "source": [
    "test_datagen = ImageDataGenerator(1./255)"
   ]
  },
  {
   "cell_type": "code",
   "execution_count": 23,
   "metadata": {
    "execution": {
     "iopub.execute_input": "2022-05-29T17:20:47.231227Z",
     "iopub.status.busy": "2022-05-29T17:20:47.230733Z",
     "iopub.status.idle": "2022-05-29T17:20:47.894138Z",
     "shell.execute_reply": "2022-05-29T17:20:47.893404Z",
     "shell.execute_reply.started": "2022-05-29T17:20:47.231189Z"
    }
   },
   "outputs": [],
   "source": [
    "test_ds = test_datagen.flow_from_dataframe(\n",
    "    dataframe=test_df ,\n",
    "    directory=test_dir ,\n",
    "    x_col = 'file' ,\n",
    "    y_col = None ,\n",
    "    target_size=IMG_SIZE,\n",
    "    batch_size=1,\n",
    "    shuffle=False,\n",
    "    class_mode=None\n",
    ")"
   ]
  },
  {
   "cell_type": "markdown",
   "metadata": {},
   "source": [
    "# Predict test set labels"
   ]
  },
  {
   "cell_type": "code",
   "execution_count": 24,
   "metadata": {
    "execution": {
     "iopub.execute_input": "2022-05-29T17:21:15.424660Z",
     "iopub.status.busy": "2022-05-29T17:21:15.424212Z",
     "iopub.status.idle": "2022-05-29T17:21:30.084128Z",
     "shell.execute_reply": "2022-05-29T17:21:30.083384Z",
     "shell.execute_reply.started": "2022-05-29T17:21:15.424622Z"
    }
   },
   "outputs": [],
   "source": [
    "preds = model.predict(test_ds)"
   ]
  },
  {
   "cell_type": "code",
   "execution_count": 25,
   "metadata": {
    "execution": {
     "iopub.execute_input": "2022-05-29T17:21:32.926688Z",
     "iopub.status.busy": "2022-05-29T17:21:32.925928Z",
     "iopub.status.idle": "2022-05-29T17:21:32.932829Z",
     "shell.execute_reply": "2022-05-29T17:21:32.931790Z",
     "shell.execute_reply.started": "2022-05-29T17:21:32.926640Z"
    }
   },
   "outputs": [],
   "source": [
    "preds.shape"
   ]
  },
  {
   "cell_type": "code",
   "execution_count": 27,
   "metadata": {
    "execution": {
     "iopub.execute_input": "2022-05-29T17:22:23.412451Z",
     "iopub.status.busy": "2022-05-29T17:22:23.412205Z",
     "iopub.status.idle": "2022-05-29T17:22:23.415994Z",
     "shell.execute_reply": "2022-05-29T17:22:23.415235Z",
     "shell.execute_reply.started": "2022-05-29T17:22:23.412423Z"
    }
   },
   "outputs": [],
   "source": [
    "labels = ['Egg' , 'Fried food' , 'Meat' , 'Rice' , 'Seafood']"
   ]
  },
  {
   "cell_type": "code",
   "execution_count": 31,
   "metadata": {
    "execution": {
     "iopub.execute_input": "2022-05-29T17:23:33.130874Z",
     "iopub.status.busy": "2022-05-29T17:23:33.130597Z",
     "iopub.status.idle": "2022-05-29T17:23:33.135556Z",
     "shell.execute_reply": "2022-05-29T17:23:33.134641Z",
     "shell.execute_reply.started": "2022-05-29T17:23:33.130842Z"
    }
   },
   "outputs": [],
   "source": [
    "predicted_label_index = preds.argmax(axis=1)"
   ]
  },
  {
   "cell_type": "code",
   "execution_count": 32,
   "metadata": {
    "execution": {
     "iopub.execute_input": "2022-05-29T17:23:34.190967Z",
     "iopub.status.busy": "2022-05-29T17:23:34.190211Z",
     "iopub.status.idle": "2022-05-29T17:23:34.197407Z",
     "shell.execute_reply": "2022-05-29T17:23:34.196525Z",
     "shell.execute_reply.started": "2022-05-29T17:23:34.190918Z"
    }
   },
   "outputs": [],
   "source": [
    "predicted_label_index"
   ]
  },
  {
   "cell_type": "markdown",
   "metadata": {},
   "source": [
    "# Get predicted label names"
   ]
  },
  {
   "cell_type": "code",
   "execution_count": 33,
   "metadata": {
    "execution": {
     "iopub.execute_input": "2022-05-29T17:26:27.940626Z",
     "iopub.status.busy": "2022-05-29T17:26:27.940318Z",
     "iopub.status.idle": "2022-05-29T17:26:27.948975Z",
     "shell.execute_reply": "2022-05-29T17:26:27.948161Z",
     "shell.execute_reply.started": "2022-05-29T17:26:27.940593Z"
    }
   },
   "outputs": [],
   "source": [
    "predicted_names = []\n",
    "for index in predicted_label_index:\n",
    "    predicted_names.append(labels[index])"
   ]
  },
  {
   "cell_type": "code",
   "execution_count": 34,
   "metadata": {
    "execution": {
     "iopub.execute_input": "2022-05-29T17:26:39.760851Z",
     "iopub.status.busy": "2022-05-29T17:26:39.760542Z",
     "iopub.status.idle": "2022-05-29T17:26:39.767779Z",
     "shell.execute_reply": "2022-05-29T17:26:39.766912Z",
     "shell.execute_reply.started": "2022-05-29T17:26:39.760823Z"
    }
   },
   "outputs": [],
   "source": [
    "test_df['predicted'] = predicted_names"
   ]
  },
  {
   "cell_type": "code",
   "execution_count": 35,
   "metadata": {
    "execution": {
     "iopub.execute_input": "2022-05-29T17:26:42.852771Z",
     "iopub.status.busy": "2022-05-29T17:26:42.852236Z",
     "iopub.status.idle": "2022-05-29T17:26:42.867282Z",
     "shell.execute_reply": "2022-05-29T17:26:42.866640Z",
     "shell.execute_reply.started": "2022-05-29T17:26:42.852732Z"
    }
   },
   "outputs": [],
   "source": [
    "test_df.head()"
   ]
  },
  {
   "cell_type": "markdown",
   "metadata": {},
   "source": [
    "# Save results"
   ]
  },
  {
   "cell_type": "code",
   "execution_count": 36,
   "metadata": {
    "execution": {
     "iopub.execute_input": "2022-05-29T17:27:14.218389Z",
     "iopub.status.busy": "2022-05-29T17:27:14.218053Z",
     "iopub.status.idle": "2022-05-29T17:27:14.237749Z",
     "shell.execute_reply": "2022-05-29T17:27:14.237029Z",
     "shell.execute_reply.started": "2022-05-29T17:27:14.218351Z"
    }
   },
   "outputs": [],
   "source": [
    "test_df.to_csv('output.csv' , index=False)"
   ]
  },
  {
   "cell_type": "code",
   "execution_count": null,
   "metadata": {},
   "outputs": [],
   "source": []
  }
 ],
 "metadata": {
  "kernelspec": {
   "display_name": "Python 3",
   "language": "python",
   "name": "python3"
  },
  "language_info": {
   "codemirror_mode": {
    "name": "ipython",
    "version": 3
   },
   "file_extension": ".py",
   "mimetype": "text/x-python",
   "name": "python",
   "nbconvert_exporter": "python",
   "pygments_lexer": "ipython3",
   "version": "3.9.5"
  }
 },
 "nbformat": 4,
 "nbformat_minor": 4
}
